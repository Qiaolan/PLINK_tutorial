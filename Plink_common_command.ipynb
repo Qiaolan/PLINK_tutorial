{
 "cells": [
  {
   "cell_type": "markdown",
   "metadata": {},
   "source": [
    "### transform binary files to 0/1/2 genotype"
   ]
  },
  {
   "cell_type": "markdown",
   "metadata": {},
   "source": [
    "`plink --bfile ../chr19/geno/Geno.chr19 --extract snps.txt --recodeA --out 2snps`"
   ]
  },
  {
   "cell_type": "markdown",
   "metadata": {},
   "source": [
    "`--extract` retain selected snps"
   ]
  },
  {
   "cell_type": "markdown",
   "metadata": {},
   "source": [
    "`--recodeA` 0/1/2 genotype "
   ]
  },
  {
   "cell_type": "markdown",
   "metadata": {},
   "source": [
    "### transform into bed files"
   ]
  },
  {
   "cell_type": "markdown",
   "metadata": {},
   "source": [
    "`plink --file interm --keep id_list.txt --make-bed --out cov_id`"
   ]
  },
  {
   "cell_type": "markdown",
   "metadata": {},
   "source": [
    "`--keep` retain selected individuals"
   ]
  },
  {
   "cell_type": "markdown",
   "metadata": {},
   "source": [
    "`--make-bed` bed file"
   ]
  },
  {
   "cell_type": "markdown",
   "metadata": {},
   "source": [
    "### update id"
   ]
  },
  {
   "cell_type": "markdown",
   "metadata": {},
   "source": [
    "`plink --bfile ../chr19/geno/Geno.chr19  --update-ids new_id.txt -make-bed -out chr19_newid`"
   ]
  },
  {
   "cell_type": "markdown",
   "metadata": {},
   "source": [
    "`--update-ids` new id file must have 4 columns:old FID, old IID, new FID, new IID"
   ]
  },
  {
   "cell_type": "markdown",
   "metadata": {},
   "source": [
    "### transform into oxford format: .gen"
   ]
  },
  {
   "cell_type": "markdown",
   "metadata": {},
   "source": [
    "`plink2 --gen chr19.gen --sample upitt.sample --maf 0.01 --mach-r2-filter 0.3 --missing-code -9 --export oxford --out upitt_chr19`"
   ]
  },
  {
   "cell_type": "markdown",
   "metadata": {},
   "source": [
    "`--export oxford` oxford format"
   ]
  },
  {
   "cell_type": "markdown",
   "metadata": {},
   "source": [
    "`--maf` MAF filtering"
   ]
  },
  {
   "cell_type": "markdown",
   "metadata": {},
   "source": [
    "`--mach-r2-filter` imputation $R^2$ filtering"
   ]
  },
  {
   "cell_type": "markdown",
   "metadata": {},
   "source": [
    "`--missing-code` missing code in the data"
   ]
  },
  {
   "cell_type": "code",
   "execution_count": null,
   "metadata": {},
   "outputs": [],
   "source": []
  }
 ],
 "metadata": {
  "kernelspec": {
   "display_name": "conda_notebook",
   "language": "python",
   "name": "notebook"
  },
  "language_info": {
   "codemirror_mode": {
    "name": "ipython",
    "version": 3
   },
   "file_extension": ".py",
   "mimetype": "text/x-python",
   "name": "python",
   "nbconvert_exporter": "python",
   "pygments_lexer": "ipython3",
   "version": "3.7.6"
  }
 },
 "nbformat": 4,
 "nbformat_minor": 4
}
